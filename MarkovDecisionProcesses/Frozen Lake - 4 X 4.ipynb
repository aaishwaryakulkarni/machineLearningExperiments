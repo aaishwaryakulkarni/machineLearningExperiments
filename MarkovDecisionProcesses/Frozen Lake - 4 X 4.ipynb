{
 "cells": [
  {
   "cell_type": "code",
   "execution_count": 1,
   "id": "671c106b",
   "metadata": {},
   "outputs": [],
   "source": [
    "import gym\n",
    "import random\n",
    "import numpy as np \n",
    "import pandas as pd\n",
    "from datetime import timedelta\n",
    "import matplotlib.pyplot as plt\n",
    "from statistics import mean\n",
    "from timeit import default_timer as timer\n",
    "import seaborn as sns\n",
    "\n",
    "from mdptoolbox import example\n",
    "from mdptoolbox.mdp import ValueIteration, PolicyIteration, QLearning"
   ]
  },
  {
   "cell_type": "code",
   "execution_count": 2,
   "id": "50bf223b",
   "metadata": {},
   "outputs": [],
   "source": [
    "env_name = \"FrozenLake8x8-v1\"\n",
    "map_name = \"4x4\""
   ]
  },
  {
   "cell_type": "code",
   "execution_count": 3,
   "id": "80c35ef6",
   "metadata": {},
   "outputs": [],
   "source": [
    "env = gym.make(env_name,\n",
    "               map_name=map_name)\n",
    "\n",
    "p,r  = example.openai(env_name = env_name, \n",
    "                      map_name = map_name)"
   ]
  },
  {
   "cell_type": "markdown",
   "id": "977d6185",
   "metadata": {},
   "source": [
    "# Common Functions"
   ]
  },
  {
   "cell_type": "code",
   "execution_count": 4,
   "id": "46c9a069",
   "metadata": {},
   "outputs": [],
   "source": [
    "def check_policy(env, policy, episodes,gamma):\n",
    "\n",
    "    misses = 0\n",
    "    goal_reached = 0\n",
    "    total_reward = []\n",
    "    total_steps = []\n",
    "\n",
    "    for e in range(episodes):\n",
    "\n",
    "        observation = env.reset()\n",
    "        steps_taken = 0\n",
    "        internal_reward = 0\n",
    "\n",
    "        while True:\n",
    "\n",
    "            observation, reward, done, _ = env.step(policy[observation])\n",
    "            \n",
    "            #Discounted reward = r_1 + 𝛾 r_2 + 𝛾² r_3 + 𝛾³ r_4 + 𝛾⁴ r_5+ …\n",
    "            internal_reward = internal_reward + ((gamma**steps_taken)*reward)\n",
    "\n",
    "            steps_taken = steps_taken + 1\n",
    "\n",
    "            if done:\n",
    "                total_reward.append(internal_reward)\n",
    "                \n",
    "                if reward == 1:\n",
    "                    total_steps.append(steps_taken)\n",
    "                    goal_reached = goal_reached + 1\n",
    "                    break\n",
    "\n",
    "                elif reward == 0:\n",
    "                    misses = misses + 1\n",
    "                    break\n",
    "                    \n",
    "    print(f\"Average steps: {np.mean(total_steps)} | Average Rewards: {np.mean(total_reward)} | Holes : {misses} | Goals : {goal_reached}\")\n",
    "    return np.mean(total_steps),np.mean(total_reward),misses,goal_reached\n",
    "\n",
    "    \n",
    "\n",
    "def plot_best_policy(X,Y):\n",
    "  \n",
    "    plt.plot(X,Y)  \n",
    "    plt.title(\"Iterations VS Mean V values\")\n",
    "    plt.xlabel(\"Iterations\")\n",
    "    plt.ylabel(\"Mean V values\")\n",
    "    plt.show()  \n",
    "\n",
    "def plot_diff_meanv_policy(X,Y):\n",
    "  \n",
    "    plt.plot(X,Y)  \n",
    "    plt.title(\"Iterations VS Change in value function\")\n",
    "    plt.xlabel(\"Iterations\")\n",
    "    plt.ylabel(\"Change in value function\")\n",
    "    plt.show()  \n",
    "\n",
    "def convert_to_four_by_four(data):\n",
    "    return [data[0:4],data[4:8],data[8:12],data[12:]]\n",
    "\n",
    "def plot_frozen_lake_policy(policy):\n",
    "\n",
    "    directions = {0: '←',1: '↓',2: '→',3: '↑'}\n",
    "\n",
    "    data = convert_to_four_by_four(policy)\n",
    "    \n",
    "    labels =  convert_to_four_by_four([directions[i] for i in policy])\n",
    "\n",
    "    fig, ax = plt.subplots()\n",
    "\n",
    "    ax = sns.heatmap(data, annot = labels, fmt = '')    "
   ]
  },
  {
   "cell_type": "markdown",
   "id": "be400c59",
   "metadata": {},
   "source": [
    "# Value Iteration"
   ]
  },
  {
   "cell_type": "code",
   "execution_count": 5,
   "id": "c66b60d2",
   "metadata": {},
   "outputs": [],
   "source": [
    "discount_list = [0.9,0.95,0.995,0.999]\n",
    "epsilon_list = [1e-3, 1e-6, 1e-9, 1e-12]\n",
    "max_iterations = 50"
   ]
  },
  {
   "cell_type": "code",
   "execution_count": 6,
   "id": "c9a925ff",
   "metadata": {},
   "outputs": [
    {
     "name": "stdout",
     "output_type": "stream",
     "text": [
      "Running VI for Discount factor : 0.9 | Epsilon : 0.001\n",
      "Average steps: 42.5125 | Average Rewards: 0.07941245270230476 | Holes : 20 | Goals : 80\n",
      "Running VI for Discount factor : 0.9 | Epsilon : 1e-06\n",
      "Average steps: 44.753246753246756 | Average Rewards: 0.06841486517901042 | Holes : 23 | Goals : 77\n",
      "Running VI for Discount factor : 0.9 | Epsilon : 1e-09\n",
      "Average steps: 44.3780487804878 | Average Rewards: 0.06716448168530076 | Holes : 18 | Goals : 82\n",
      "Running VI for Discount factor : 0.9 | Epsilon : 1e-12\n",
      "Average steps: 46.0 | Average Rewards: 0.06245395450847505 | Holes : 22 | Goals : 78\n",
      "Running VI for Discount factor : 0.95 | Epsilon : 0.001\n",
      "Average steps: 40.822784810126585 | Average Rewards: 0.19540056033433 | Holes : 21 | Goals : 79\n",
      "Running VI for Discount factor : 0.95 | Epsilon : 1e-06\n",
      "Average steps: 48.7125 | Average Rewards: 0.15957653171204864 | Holes : 20 | Goals : 80\n",
      "Running VI for Discount factor : 0.95 | Epsilon : 1e-09\n",
      "Average steps: 44.65384615384615 | Average Rewards: 0.18131769994532043 | Holes : 22 | Goals : 78\n",
      "Running VI for Discount factor : 0.95 | Epsilon : 1e-12\n",
      "Average steps: 44.714285714285715 | Average Rewards: 0.18355254690804623 | Holes : 23 | Goals : 77\n",
      "Running VI for Discount factor : 0.995 | Epsilon : 0.001\n",
      "Average steps: 48.975903614457835 | Average Rewards: 0.6615630081368075 | Holes : 17 | Goals : 83\n",
      "Running VI for Discount factor : 0.995 | Epsilon : 1e-06\n",
      "Average steps: 45.298850574712645 | Average Rewards: 0.7093980778555175 | Holes : 13 | Goals : 87\n",
      "Running VI for Discount factor : 0.995 | Epsilon : 1e-09\n",
      "Average steps: 49.55421686746988 | Average Rewards: 0.6634372979780707 | Holes : 17 | Goals : 83\n",
      "Running VI for Discount factor : 0.995 | Epsilon : 1e-12\n",
      "Average steps: 50.08974358974359 | Average Rewards: 0.619075180851115 | Holes : 22 | Goals : 78\n",
      "Running VI for Discount factor : 0.999 | Epsilon : 0.001\n",
      "Average steps: 41.31111111111111 | Average Rewards: 0.8648232891694253 | Holes : 10 | Goals : 90\n",
      "Running VI for Discount factor : 0.999 | Epsilon : 1e-06\n",
      "Average steps: 48.15384615384615 | Average Rewards: 0.7444827585139033 | Holes : 22 | Goals : 78\n",
      "Running VI for Discount factor : 0.999 | Epsilon : 1e-09\n",
      "Average steps: 47.65 | Average Rewards: 0.7639382194245908 | Holes : 20 | Goals : 80\n",
      "Running VI for Discount factor : 0.999 | Epsilon : 1e-12\n",
      "Average steps: 38.71052631578947 | Average Rewards: 0.7322120001102204 | Holes : 24 | Goals : 76\n"
     ]
    }
   ],
   "source": [
    "li = []\n",
    "\n",
    "for discount in discount_list:\n",
    "    for epsilon in epsilon_list:\n",
    "        print(f\"Running VI for Discount factor : {discount} | Epsilon : {epsilon}\")\n",
    "\n",
    "        vi = ValueIteration(p,r,\n",
    "                            gamma = discount,\n",
    "                            max_iter = max_iterations,\n",
    "                            epsilon = epsilon)\n",
    "        ret = vi.run()\n",
    "        policy_vi = list(vi.policy)\n",
    "        converged_iterations = vi.iter\n",
    "        \n",
    "        max_v = ret[-1]['Max V']\n",
    "        \n",
    "        avg_vf = np.mean(vi.V)\n",
    "        \n",
    "        max_rewards, mean_rewards = [], []\n",
    "        for run in ret:\n",
    "            max_rewards.append(run['Max V'])\n",
    "            mean_rewards.append(run['Mean V'])    \n",
    "            \n",
    "            \n",
    "        mean_steps,mean_rewards_100,misses,goal_reached = check_policy(env, policy_vi, 100,discount)\n",
    "\n",
    "        li.append([discount,epsilon,\n",
    "                   max_v,mean(mean_rewards),avg_vf,\n",
    "                   converged_iterations,policy_vi,mean_rewards,max_rewards,\n",
    "                   mean_steps,mean_rewards_100,misses,goal_reached])"
   ]
  },
  {
   "cell_type": "code",
   "execution_count": 108,
   "id": "9e89d569",
   "metadata": {},
   "outputs": [],
   "source": [
    "df_VI = pd.DataFrame(li,\n",
    "                     columns = ['Discount factor','Epsilon',\n",
    "                                'max V','Avg Mean V','Avg VF',\n",
    "                                'Iterations','Policy',\n",
    "                                'mean_rewards_li','max_rewards_li','mean_steps',\n",
    "                                'mean_rewards_100','misses','goal_reached'])"
   ]
  },
  {
   "cell_type": "code",
   "execution_count": 123,
   "id": "92894c35",
   "metadata": {},
   "outputs": [],
   "source": [
    "df_VI.rename(columns={'mean_rewards_100':'Mean Rewards','mean_steps':'Mean steps'},inplace = True)"
   ]
  },
  {
   "cell_type": "code",
   "execution_count": 124,
   "id": "dfe7f66d",
   "metadata": {},
   "outputs": [
    {
     "data": {
      "text/html": [
       "<div>\n",
       "<style scoped>\n",
       "    .dataframe tbody tr th:only-of-type {\n",
       "        vertical-align: middle;\n",
       "    }\n",
       "\n",
       "    .dataframe tbody tr th {\n",
       "        vertical-align: top;\n",
       "    }\n",
       "\n",
       "    .dataframe thead th {\n",
       "        text-align: right;\n",
       "    }\n",
       "</style>\n",
       "<table border=\"1\" class=\"dataframe\">\n",
       "  <thead>\n",
       "    <tr style=\"text-align: right;\">\n",
       "      <th></th>\n",
       "      <th>Discount factor</th>\n",
       "      <th>Epsilon</th>\n",
       "      <th>Iterations</th>\n",
       "      <th>Mean steps</th>\n",
       "      <th>Mean Rewards</th>\n",
       "      <th>misses</th>\n",
       "      <th>goal_reached</th>\n",
       "    </tr>\n",
       "  </thead>\n",
       "  <tbody>\n",
       "    <tr>\n",
       "      <th>0</th>\n",
       "      <td>0.900</td>\n",
       "      <td>1.000000e-03</td>\n",
       "      <td>27</td>\n",
       "      <td>45.742857</td>\n",
       "      <td>0.052591</td>\n",
       "      <td>30</td>\n",
       "      <td>70</td>\n",
       "    </tr>\n",
       "    <tr>\n",
       "      <th>1</th>\n",
       "      <td>0.900</td>\n",
       "      <td>1.000000e-06</td>\n",
       "      <td>78</td>\n",
       "      <td>45.234568</td>\n",
       "      <td>0.076113</td>\n",
       "      <td>19</td>\n",
       "      <td>81</td>\n",
       "    </tr>\n",
       "    <tr>\n",
       "      <th>2</th>\n",
       "      <td>0.900</td>\n",
       "      <td>1.000000e-09</td>\n",
       "      <td>129</td>\n",
       "      <td>34.506173</td>\n",
       "      <td>0.089605</td>\n",
       "      <td>19</td>\n",
       "      <td>81</td>\n",
       "    </tr>\n",
       "    <tr>\n",
       "      <th>3</th>\n",
       "      <td>0.900</td>\n",
       "      <td>1.000000e-12</td>\n",
       "      <td>179</td>\n",
       "      <td>47.485294</td>\n",
       "      <td>0.062124</td>\n",
       "      <td>32</td>\n",
       "      <td>68</td>\n",
       "    </tr>\n",
       "    <tr>\n",
       "      <th>4</th>\n",
       "      <td>0.950</td>\n",
       "      <td>1.000000e-03</td>\n",
       "      <td>44</td>\n",
       "      <td>46.462500</td>\n",
       "      <td>0.174382</td>\n",
       "      <td>20</td>\n",
       "      <td>80</td>\n",
       "    </tr>\n",
       "    <tr>\n",
       "      <th>5</th>\n",
       "      <td>0.950</td>\n",
       "      <td>1.000000e-06</td>\n",
       "      <td>128</td>\n",
       "      <td>40.821918</td>\n",
       "      <td>0.183081</td>\n",
       "      <td>27</td>\n",
       "      <td>73</td>\n",
       "    </tr>\n",
       "    <tr>\n",
       "      <th>6</th>\n",
       "      <td>0.950</td>\n",
       "      <td>1.000000e-09</td>\n",
       "      <td>213</td>\n",
       "      <td>42.037975</td>\n",
       "      <td>0.205484</td>\n",
       "      <td>21</td>\n",
       "      <td>79</td>\n",
       "    </tr>\n",
       "    <tr>\n",
       "      <th>7</th>\n",
       "      <td>0.950</td>\n",
       "      <td>1.000000e-12</td>\n",
       "      <td>297</td>\n",
       "      <td>40.987500</td>\n",
       "      <td>0.183272</td>\n",
       "      <td>20</td>\n",
       "      <td>80</td>\n",
       "    </tr>\n",
       "    <tr>\n",
       "      <th>8</th>\n",
       "      <td>0.995</td>\n",
       "      <td>1.000000e-03</td>\n",
       "      <td>124</td>\n",
       "      <td>49.916667</td>\n",
       "      <td>0.668870</td>\n",
       "      <td>16</td>\n",
       "      <td>84</td>\n",
       "    </tr>\n",
       "    <tr>\n",
       "      <th>9</th>\n",
       "      <td>0.995</td>\n",
       "      <td>1.000000e-06</td>\n",
       "      <td>357</td>\n",
       "      <td>50.178571</td>\n",
       "      <td>0.666482</td>\n",
       "      <td>16</td>\n",
       "      <td>84</td>\n",
       "    </tr>\n",
       "    <tr>\n",
       "      <th>10</th>\n",
       "      <td>0.995</td>\n",
       "      <td>1.000000e-09</td>\n",
       "      <td>591</td>\n",
       "      <td>42.823529</td>\n",
       "      <td>0.699607</td>\n",
       "      <td>15</td>\n",
       "      <td>85</td>\n",
       "    </tr>\n",
       "    <tr>\n",
       "      <th>11</th>\n",
       "      <td>0.995</td>\n",
       "      <td>1.000000e-12</td>\n",
       "      <td>825</td>\n",
       "      <td>53.090909</td>\n",
       "      <td>0.600822</td>\n",
       "      <td>23</td>\n",
       "      <td>77</td>\n",
       "    </tr>\n",
       "    <tr>\n",
       "      <th>12</th>\n",
       "      <td>0.999</td>\n",
       "      <td>1.000000e-03</td>\n",
       "      <td>144</td>\n",
       "      <td>48.909091</td>\n",
       "      <td>0.734401</td>\n",
       "      <td>23</td>\n",
       "      <td>77</td>\n",
       "    </tr>\n",
       "    <tr>\n",
       "      <th>13</th>\n",
       "      <td>0.999</td>\n",
       "      <td>1.000000e-06</td>\n",
       "      <td>414</td>\n",
       "      <td>47.811765</td>\n",
       "      <td>0.811517</td>\n",
       "      <td>15</td>\n",
       "      <td>85</td>\n",
       "    </tr>\n",
       "    <tr>\n",
       "      <th>14</th>\n",
       "      <td>0.999</td>\n",
       "      <td>1.000000e-09</td>\n",
       "      <td>684</td>\n",
       "      <td>49.962963</td>\n",
       "      <td>0.771946</td>\n",
       "      <td>19</td>\n",
       "      <td>81</td>\n",
       "    </tr>\n",
       "    <tr>\n",
       "      <th>15</th>\n",
       "      <td>0.999</td>\n",
       "      <td>1.000000e-12</td>\n",
       "      <td>954</td>\n",
       "      <td>41.771084</td>\n",
       "      <td>0.797262</td>\n",
       "      <td>17</td>\n",
       "      <td>83</td>\n",
       "    </tr>\n",
       "  </tbody>\n",
       "</table>\n",
       "</div>"
      ],
      "text/plain": [
       "    Discount factor       Epsilon  Iterations  Mean steps  Mean Rewards  \\\n",
       "0             0.900  1.000000e-03          27   45.742857      0.052591   \n",
       "1             0.900  1.000000e-06          78   45.234568      0.076113   \n",
       "2             0.900  1.000000e-09         129   34.506173      0.089605   \n",
       "3             0.900  1.000000e-12         179   47.485294      0.062124   \n",
       "4             0.950  1.000000e-03          44   46.462500      0.174382   \n",
       "5             0.950  1.000000e-06         128   40.821918      0.183081   \n",
       "6             0.950  1.000000e-09         213   42.037975      0.205484   \n",
       "7             0.950  1.000000e-12         297   40.987500      0.183272   \n",
       "8             0.995  1.000000e-03         124   49.916667      0.668870   \n",
       "9             0.995  1.000000e-06         357   50.178571      0.666482   \n",
       "10            0.995  1.000000e-09         591   42.823529      0.699607   \n",
       "11            0.995  1.000000e-12         825   53.090909      0.600822   \n",
       "12            0.999  1.000000e-03         144   48.909091      0.734401   \n",
       "13            0.999  1.000000e-06         414   47.811765      0.811517   \n",
       "14            0.999  1.000000e-09         684   49.962963      0.771946   \n",
       "15            0.999  1.000000e-12         954   41.771084      0.797262   \n",
       "\n",
       "    misses  goal_reached  \n",
       "0       30            70  \n",
       "1       19            81  \n",
       "2       19            81  \n",
       "3       32            68  \n",
       "4       20            80  \n",
       "5       27            73  \n",
       "6       21            79  \n",
       "7       20            80  \n",
       "8       16            84  \n",
       "9       16            84  \n",
       "10      15            85  \n",
       "11      23            77  \n",
       "12      23            77  \n",
       "13      15            85  \n",
       "14      19            81  \n",
       "15      17            83  "
      ]
     },
     "execution_count": 124,
     "metadata": {},
     "output_type": "execute_result"
    }
   ],
   "source": [
    "df_VI[['Discount factor','Epsilon','Iterations','Mean steps','Mean Rewards','misses','goal_reached']]"
   ]
  },
  {
   "cell_type": "code",
   "execution_count": 110,
   "id": "ea019bb8",
   "metadata": {},
   "outputs": [],
   "source": [
    "vi = ValueIteration(p,r,\n",
    "                    gamma = 0.999,\n",
    "                    max_iter = max_iterations,\n",
    "                    epsilon = 1e-06)\n",
    "ret = vi.run()\n",
    "policy_vi = list(vi.policy)\n",
    "converged_iterations = vi.iter"
   ]
  },
  {
   "cell_type": "code",
   "execution_count": 111,
   "id": "98aeaf98",
   "metadata": {},
   "outputs": [
    {
     "name": "stdout",
     "output_type": "stream",
     "text": [
      "Average steps: 46.75 | Average Rewards: 0.8029471258492359 | Holes : 16 | Goals : 84\n"
     ]
    },
    {
     "data": {
      "text/plain": [
       "(46.75, 0.8029471258492359, 16, 84)"
      ]
     },
     "execution_count": 111,
     "metadata": {},
     "output_type": "execute_result"
    }
   ],
   "source": [
    "check_policy(env, policy_vi, 100, 0.999)"
   ]
  },
  {
   "cell_type": "code",
   "execution_count": 112,
   "id": "2e0e2e96",
   "metadata": {},
   "outputs": [
    {
     "data": {
      "image/png": "[encoded data removed]",
      "text/plain": [
       "<Figure size 432x288 with 1 Axes>"
      ]
     },
     "metadata": {
      "needs_background": "light"
     },
     "output_type": "display_data"
    }
   ],
   "source": [
    "mean_v = [i['Mean V'] for i in ret]\n",
    "iterations = [i['Iteration'] for i in ret]\n",
    "plot_best_policy(iterations,mean_v)"
   ]
  },
  {
   "cell_type": "code",
   "execution_count": 113,
   "id": "dfac1d95",
   "metadata": {},
   "outputs": [
    {
     "data": {
      "image/png": "[encoded data removed]",
      "text/plain": [
       "<Figure size 432x288 with 1 Axes>"
      ]
     },
     "metadata": {
      "needs_background": "light"
     },
     "output_type": "display_data"
    }
   ],
   "source": [
    "diff_mean_Vs = [j-i for i, j in zip(mean_v[:-1], mean_v[1:])] \n",
    "plot_diff_meanv_policy(iterations[0:-1],diff_mean_Vs)"
   ]
  },
  {
   "cell_type": "code",
   "execution_count": 33,
   "id": "1a841f59",
   "metadata": {},
   "outputs": [
    {
     "data": {
      "image/png": "[encoded data removed]",
      "text/plain": [
       "<Figure size 432x288 with 2 Axes>"
      ]
     },
     "metadata": {
      "needs_background": "light"
     },
     "output_type": "display_data"
    }
   ],
   "source": [
    "plot_frozen_lake_policy(policy_vi)"
   ]
  },
  {
   "cell_type": "markdown",
   "id": "5e0f87d0",
   "metadata": {},
   "source": [
    "# Policy Iteration"
   ]
  },
  {
   "cell_type": "code",
   "execution_count": 114,
   "id": "b31f8082",
   "metadata": {},
   "outputs": [],
   "source": [
    "discount_list = [0.8,0.9,0.95,0.995,0.999]\n",
    "eval_type_list = [0,1]\n",
    "max_iterations = 500"
   ]
  },
  {
   "cell_type": "code",
   "execution_count": 115,
   "id": "1d1f22c8",
   "metadata": {},
   "outputs": [
    {
     "name": "stdout",
     "output_type": "stream",
     "text": [
      "Running VI for Discount factor : 0.8 | Eval type : 0\n",
      "Running VI for Discount factor : 0.8 | Eval type : 1\n",
      "Running VI for Discount factor : 0.9 | Eval type : 0\n",
      "Running VI for Discount factor : 0.9 | Eval type : 1\n",
      "Running VI for Discount factor : 0.95 | Eval type : 0\n",
      "Running VI for Discount factor : 0.95 | Eval type : 1\n",
      "Running VI for Discount factor : 0.995 | Eval type : 0\n",
      "Running VI for Discount factor : 0.995 | Eval type : 1\n",
      "Running VI for Discount factor : 0.999 | Eval type : 0\n",
      "Running VI for Discount factor : 0.999 | Eval type : 1\n"
     ]
    }
   ],
   "source": [
    "li = []\n",
    "for discount in discount_list:\n",
    "    for eval_type in eval_type_list:\n",
    "\n",
    "        print(f\"Running VI for Discount factor : {discount} | Eval type : {eval_type}\")\n",
    "\n",
    "        pi = PolicyIteration(p,r,\n",
    "                            gamma  = discount,\n",
    "                            eval_type = eval_type, \n",
    "                            max_iter = max_iterations\n",
    "                            )\n",
    "        ret = pi.run()\n",
    "        policy_pi = list(pi.policy)\n",
    "        converged_iterations = pi.iter\n",
    "        \n",
    "        max_v  = ret[-1]['Max V']\n",
    "        avg_vf = np.mean(pi.V)\n",
    "        \n",
    "        max_rewards, mean_rewards = [], []\n",
    "        for run in ret:\n",
    "            max_rewards.append(run['Max V'])\n",
    "            mean_rewards.append(run['Mean V'])    \n",
    "\n",
    "        li.append([discount,eval_type,max_v,mean(mean_rewards),avg_vf,converged_iterations,policy_vi,mean_rewards,max_rewards])"
   ]
  },
  {
   "cell_type": "code",
   "execution_count": 116,
   "id": "cb5c9cb5",
   "metadata": {},
   "outputs": [],
   "source": [
    "df_PI = pd.DataFrame(li,\n",
    "                     columns = ['Discount factor','Eval type',\n",
    "                                'max V','Avg Mean V','Avg VF',\n",
    "                                'Iterations','Policy',\n",
    "                                'mean_rewards_li','max_rewards_li'])"
   ]
  },
  {
   "cell_type": "code",
   "execution_count": 118,
   "id": "126d4eea",
   "metadata": {},
   "outputs": [
    {
     "data": {
      "text/html": [
       "<div>\n",
       "<style scoped>\n",
       "    .dataframe tbody tr th:only-of-type {\n",
       "        vertical-align: middle;\n",
       "    }\n",
       "\n",
       "    .dataframe tbody tr th {\n",
       "        vertical-align: top;\n",
       "    }\n",
       "\n",
       "    .dataframe thead th {\n",
       "        text-align: right;\n",
       "    }\n",
       "</style>\n",
       "<table border=\"1\" class=\"dataframe\">\n",
       "  <thead>\n",
       "    <tr style=\"text-align: right;\">\n",
       "      <th></th>\n",
       "      <th>Discount factor</th>\n",
       "      <th>Eval type</th>\n",
       "      <th>max V</th>\n",
       "      <th>Avg Mean V</th>\n",
       "      <th>Avg VF</th>\n",
       "      <th>Iterations</th>\n",
       "    </tr>\n",
       "  </thead>\n",
       "  <tbody>\n",
       "    <tr>\n",
       "      <th>0</th>\n",
       "      <td>0.800</td>\n",
       "      <td>0</td>\n",
       "      <td>0.544196</td>\n",
       "      <td>0.065391</td>\n",
       "      <td>0.083778</td>\n",
       "      <td>3</td>\n",
       "    </tr>\n",
       "    <tr>\n",
       "      <th>1</th>\n",
       "      <td>0.800</td>\n",
       "      <td>1</td>\n",
       "      <td>0.544175</td>\n",
       "      <td>0.071456</td>\n",
       "      <td>0.083745</td>\n",
       "      <td>5</td>\n",
       "    </tr>\n",
       "    <tr>\n",
       "      <th>2</th>\n",
       "      <td>0.900</td>\n",
       "      <td>0</td>\n",
       "      <td>0.639020</td>\n",
       "      <td>0.106186</td>\n",
       "      <td>0.136006</td>\n",
       "      <td>5</td>\n",
       "    </tr>\n",
       "    <tr>\n",
       "      <th>3</th>\n",
       "      <td>0.900</td>\n",
       "      <td>1</td>\n",
       "      <td>0.639006</td>\n",
       "      <td>0.105852</td>\n",
       "      <td>0.135976</td>\n",
       "      <td>5</td>\n",
       "    </tr>\n",
       "    <tr>\n",
       "      <th>4</th>\n",
       "      <td>0.950</td>\n",
       "      <td>0</td>\n",
       "      <td>0.723674</td>\n",
       "      <td>0.142080</td>\n",
       "      <td>0.205505</td>\n",
       "      <td>5</td>\n",
       "    </tr>\n",
       "    <tr>\n",
       "      <th>5</th>\n",
       "      <td>0.950</td>\n",
       "      <td>1</td>\n",
       "      <td>0.723662</td>\n",
       "      <td>0.142456</td>\n",
       "      <td>0.205481</td>\n",
       "      <td>5</td>\n",
       "    </tr>\n",
       "    <tr>\n",
       "      <th>6</th>\n",
       "      <td>0.995</td>\n",
       "      <td>0</td>\n",
       "      <td>0.896781</td>\n",
       "      <td>0.281185</td>\n",
       "      <td>0.461835</td>\n",
       "      <td>6</td>\n",
       "    </tr>\n",
       "    <tr>\n",
       "      <th>7</th>\n",
       "      <td>0.995</td>\n",
       "      <td>1</td>\n",
       "      <td>0.896779</td>\n",
       "      <td>0.277599</td>\n",
       "      <td>0.461829</td>\n",
       "      <td>6</td>\n",
       "    </tr>\n",
       "    <tr>\n",
       "      <th>8</th>\n",
       "      <td>0.999</td>\n",
       "      <td>0</td>\n",
       "      <td>0.931179</td>\n",
       "      <td>0.530166</td>\n",
       "      <td>0.533481</td>\n",
       "      <td>500</td>\n",
       "    </tr>\n",
       "    <tr>\n",
       "      <th>9</th>\n",
       "      <td>0.999</td>\n",
       "      <td>1</td>\n",
       "      <td>0.931178</td>\n",
       "      <td>0.305790</td>\n",
       "      <td>0.533479</td>\n",
       "      <td>6</td>\n",
       "    </tr>\n",
       "  </tbody>\n",
       "</table>\n",
       "</div>"
      ],
      "text/plain": [
       "   Discount factor  Eval type     max V  Avg Mean V    Avg VF  Iterations\n",
       "0            0.800          0  0.544196    0.065391  0.083778           3\n",
       "1            0.800          1  0.544175    0.071456  0.083745           5\n",
       "2            0.900          0  0.639020    0.106186  0.136006           5\n",
       "3            0.900          1  0.639006    0.105852  0.135976           5\n",
       "4            0.950          0  0.723674    0.142080  0.205505           5\n",
       "5            0.950          1  0.723662    0.142456  0.205481           5\n",
       "6            0.995          0  0.896781    0.281185  0.461835           6\n",
       "7            0.995          1  0.896779    0.277599  0.461829           6\n",
       "8            0.999          0  0.931179    0.530166  0.533481         500\n",
       "9            0.999          1  0.931178    0.305790  0.533479           6"
      ]
     },
     "execution_count": 118,
     "metadata": {},
     "output_type": "execute_result"
    }
   ],
   "source": [
    "df_PI[['Discount factor','Eval type','max V','Avg Mean V','Avg VF','Iterations']]"
   ]
  },
  {
   "cell_type": "code",
   "execution_count": 119,
   "id": "b8f61821",
   "metadata": {},
   "outputs": [],
   "source": [
    "pi = PolicyIteration(p,r,\n",
    "                    gamma  = 0.999,\n",
    "                    eval_type = 1, \n",
    "                    max_iter = max_iterations\n",
    "                    )\n",
    "ret = pi.run()\n",
    "policy_pi = list(pi.policy)"
   ]
  },
  {
   "cell_type": "code",
   "execution_count": 120,
   "id": "4417054e",
   "metadata": {},
   "outputs": [
    {
     "name": "stdout",
     "output_type": "stream",
     "text": [
      "Average steps: 56.566265060240966 | Average Rewards: 0.785718676977932 | Holes : 17 | Goals : 83\n"
     ]
    },
    {
     "data": {
      "text/plain": [
       "(56.566265060240966, 0.785718676977932, 17, 83)"
      ]
     },
     "execution_count": 120,
     "metadata": {},
     "output_type": "execute_result"
    }
   ],
   "source": [
    "check_policy(env, policy_vi, 100, 0.999)"
   ]
  },
  {
   "cell_type": "code",
   "execution_count": 121,
   "id": "bbb35d28",
   "metadata": {},
   "outputs": [
    {
     "data": {
      "image/png": "[encoded data removed]",
      "text/plain": [
       "<Figure size 432x288 with 1 Axes>"
      ]
     },
     "metadata": {
      "needs_background": "light"
     },
     "output_type": "display_data"
    }
   ],
   "source": [
    "mean_v = [i['Mean V'] for i in ret]\n",
    "iterations = [i['Iteration'] for i in ret]\n",
    "plot_best_policy(iterations,mean_v)"
   ]
  },
  {
   "cell_type": "code",
   "execution_count": 122,
   "id": "02a23eaa",
   "metadata": {},
   "outputs": [
    {
     "data": {
      "image/png": "[encoded data removed]",
      "text/plain": [
       "<Figure size 432x288 with 2 Axes>"
      ]
     },
     "metadata": {
      "needs_background": "light"
     },
     "output_type": "display_data"
    }
   ],
   "source": [
    "plot_frozen_lake_policy(policy_pi)"
   ]
  },
  {
   "cell_type": "code",
   "execution_count": 125,
   "id": "3bdeead0",
   "metadata": {},
   "outputs": [
    {
     "data": {
      "text/plain": [
       "[0, 3, 3, 3, 0, 0, 0, 0, 3, 1, 0, 0, 0, 2, 1, 0]"
      ]
     },
     "execution_count": 125,
     "metadata": {},
     "output_type": "execute_result"
    }
   ],
   "source": [
    "policy_pi"
   ]
  },
  {
   "cell_type": "markdown",
   "id": "293a5996",
   "metadata": {},
   "source": [
    "# Q Learning"
   ]
  },
  {
   "cell_type": "raw",
   "id": "4636a4a2",
   "metadata": {},
   "source": [
    "Learning Rate - lr or learning rate - alpha - how much you accept the new value vs the old value.\n",
    "the learning rate, set between 0 and 1. Setting it to 0 means that the Q-values are never updated, hence nothing is learned. Setting a high value such as 0.9 means that learning can occur quickly.\n",
    "\n",
    "balance exploration/exploitation using epsilon"
   ]
  },
  {
   "cell_type": "code",
   "execution_count": 43,
   "id": "fb0d3139",
   "metadata": {},
   "outputs": [],
   "source": [
    "def run_q_learning(learning_rate,gamma,epsilon_decay):\n",
    "\n",
    "    rewards = []\n",
    "    total_episodes = 20000\n",
    "    max_steps = 100\n",
    "    epsilon = 1.0        \n",
    "    max_epsilon = 1.0             \n",
    "    min_epsilon = 0.01    \n",
    "    qtable = np.zeros((16, 4))\n",
    "\n",
    "    for episode in range(total_episodes):\n",
    "\n",
    "        state = env.reset()\n",
    "\n",
    "        step = 0\n",
    "        done = False\n",
    "        total_rewards = 0\n",
    "\n",
    "        for step in range(max_steps):\n",
    "\n",
    "            random_number  = random.uniform(0, 1)\n",
    "\n",
    "            # exploitation (biggest Q value for the state)\n",
    "            if random_number > epsilon:\n",
    "                action = np.argmax(qtable[state,:])\n",
    "\n",
    "            # exploration\n",
    "            else:\n",
    "                action = env.action_space.sample()\n",
    "\n",
    "            # new state (s') and reward (r)\n",
    "            new_state, reward, done, _ = env.step(action)\n",
    "\n",
    "            # Q(s,a) = Q(s,a) + lr [R(s,a) + gamma * max Q(s',a') - Q(s,a)]\n",
    "            qtable[state, action] = qtable[state, action] + learning_rate * (reward + gamma * np.max(qtable[new_state, :]) - qtable[state, action])\n",
    "\n",
    "            total_rewards = total_rewards +  reward\n",
    "\n",
    "            state = new_state\n",
    "\n",
    "            if done == True: \n",
    "                break\n",
    "\n",
    "        epsilon = min_epsilon + (max_epsilon - min_epsilon) * np.exp(-epsilon_decay * episode) \n",
    "\n",
    "        rewards.append(total_rewards)\n",
    "\n",
    "    return sum(rewards)/total_episodes,qtable"
   ]
  },
  {
   "cell_type": "code",
   "execution_count": 81,
   "id": "c964697b",
   "metadata": {},
   "outputs": [],
   "source": [
    "learning_rate_list = [0.1,0.4,0.6,0.8]\n",
    "gamma_list = [0.9,0.95]\n",
    "epsilon_decay_list = [0.001]"
   ]
  },
  {
   "cell_type": "code",
   "execution_count": 82,
   "id": "c1a4961a",
   "metadata": {},
   "outputs": [
    {
     "name": "stdout",
     "output_type": "stream",
     "text": [
      "Learning rate 0.1 | Gamma : 0.9 | Epsilon delay : 0.001\n",
      "Learning rate 0.1 | Gamma : 0.95 | Epsilon delay : 0.001\n",
      "Learning rate 0.4 | Gamma : 0.9 | Epsilon delay : 0.001\n",
      "Learning rate 0.4 | Gamma : 0.95 | Epsilon delay : 0.001\n",
      "Learning rate 0.6 | Gamma : 0.9 | Epsilon delay : 0.001\n",
      "Learning rate 0.6 | Gamma : 0.95 | Epsilon delay : 0.001\n",
      "Learning rate 0.8 | Gamma : 0.9 | Epsilon delay : 0.001\n",
      "Learning rate 0.8 | Gamma : 0.95 | Epsilon delay : 0.001\n"
     ]
    }
   ],
   "source": [
    "q_li = []\n",
    "for learning_rate in learning_rate_list:\n",
    "    for gamma in gamma_list:\n",
    "        \n",
    "        for epsilon_decay in epsilon_decay_list:\n",
    "            \n",
    "            print(f\"Learning rate {learning_rate} | Gamma : {gamma} | Epsilon delay : {epsilon_decay}\")\n",
    "            \n",
    "            avg_rewards,qtable = run_q_learning(learning_rate,gamma,epsilon_decay)\n",
    "            \n",
    "            q_li.append([learning_rate,gamma,epsilon_decay,avg_rewards,qtable])\n",
    "            \n",
    "q_learning_df = pd.DataFrame(q_li,columns = ['Learning rate','Gamma','Epsilon Decay','Average Rewards','Q Table'])"
   ]
  },
  {
   "cell_type": "code",
   "execution_count": 83,
   "id": "606be1a0",
   "metadata": {},
   "outputs": [
    {
     "data": {
      "text/html": [
       "<div>\n",
       "<style scoped>\n",
       "    .dataframe tbody tr th:only-of-type {\n",
       "        vertical-align: middle;\n",
       "    }\n",
       "\n",
       "    .dataframe tbody tr th {\n",
       "        vertical-align: top;\n",
       "    }\n",
       "\n",
       "    .dataframe thead th {\n",
       "        text-align: right;\n",
       "    }\n",
       "</style>\n",
       "<table border=\"1\" class=\"dataframe\">\n",
       "  <thead>\n",
       "    <tr style=\"text-align: right;\">\n",
       "      <th></th>\n",
       "      <th>Learning rate</th>\n",
       "      <th>Gamma</th>\n",
       "      <th>Epsilon Decay</th>\n",
       "      <th>Average Rewards</th>\n",
       "      <th>Q Table</th>\n",
       "    </tr>\n",
       "  </thead>\n",
       "  <tbody>\n",
       "    <tr>\n",
       "      <th>1</th>\n",
       "      <td>0.1</td>\n",
       "      <td>0.95</td>\n",
       "      <td>0.001</td>\n",
       "      <td>0.54635</td>\n",
       "      <td>[[0.17695709582450558, 0.16255491651900558, 0....</td>\n",
       "    </tr>\n",
       "    <tr>\n",
       "      <th>3</th>\n",
       "      <td>0.4</td>\n",
       "      <td>0.95</td>\n",
       "      <td>0.001</td>\n",
       "      <td>0.47400</td>\n",
       "      <td>[[0.14303850581380542, 0.11583380230469878, 0....</td>\n",
       "    </tr>\n",
       "    <tr>\n",
       "      <th>5</th>\n",
       "      <td>0.6</td>\n",
       "      <td>0.95</td>\n",
       "      <td>0.001</td>\n",
       "      <td>0.44890</td>\n",
       "      <td>[[0.1618043585040053, 0.14175948528166007, 0.0...</td>\n",
       "    </tr>\n",
       "    <tr>\n",
       "      <th>0</th>\n",
       "      <td>0.1</td>\n",
       "      <td>0.90</td>\n",
       "      <td>0.001</td>\n",
       "      <td>0.44115</td>\n",
       "      <td>[[0.057342157291215515, 0.04544634478035232, 0...</td>\n",
       "    </tr>\n",
       "    <tr>\n",
       "      <th>7</th>\n",
       "      <td>0.8</td>\n",
       "      <td>0.95</td>\n",
       "      <td>0.001</td>\n",
       "      <td>0.41960</td>\n",
       "      <td>[[0.24764536867546574, 0.08496787086668134, 0....</td>\n",
       "    </tr>\n",
       "    <tr>\n",
       "      <th>6</th>\n",
       "      <td>0.8</td>\n",
       "      <td>0.90</td>\n",
       "      <td>0.001</td>\n",
       "      <td>0.37385</td>\n",
       "      <td>[[0.006969789411469888, 0.006927320316050981, ...</td>\n",
       "    </tr>\n",
       "    <tr>\n",
       "      <th>4</th>\n",
       "      <td>0.6</td>\n",
       "      <td>0.90</td>\n",
       "      <td>0.001</td>\n",
       "      <td>0.37065</td>\n",
       "      <td>[[0.03421379035088805, 0.030584254850054775, 0...</td>\n",
       "    </tr>\n",
       "    <tr>\n",
       "      <th>2</th>\n",
       "      <td>0.4</td>\n",
       "      <td>0.90</td>\n",
       "      <td>0.001</td>\n",
       "      <td>0.36330</td>\n",
       "      <td>[[0.03581170468349564, 0.09092954233709635, 0....</td>\n",
       "    </tr>\n",
       "  </tbody>\n",
       "</table>\n",
       "</div>"
      ],
      "text/plain": [
       "   Learning rate  Gamma  Epsilon Decay  Average Rewards  \\\n",
       "1            0.1   0.95          0.001          0.54635   \n",
       "3            0.4   0.95          0.001          0.47400   \n",
       "5            0.6   0.95          0.001          0.44890   \n",
       "0            0.1   0.90          0.001          0.44115   \n",
       "7            0.8   0.95          0.001          0.41960   \n",
       "6            0.8   0.90          0.001          0.37385   \n",
       "4            0.6   0.90          0.001          0.37065   \n",
       "2            0.4   0.90          0.001          0.36330   \n",
       "\n",
       "                                             Q Table  \n",
       "1  [[0.17695709582450558, 0.16255491651900558, 0....  \n",
       "3  [[0.14303850581380542, 0.11583380230469878, 0....  \n",
       "5  [[0.1618043585040053, 0.14175948528166007, 0.0...  \n",
       "0  [[0.057342157291215515, 0.04544634478035232, 0...  \n",
       "7  [[0.24764536867546574, 0.08496787086668134, 0....  \n",
       "6  [[0.006969789411469888, 0.006927320316050981, ...  \n",
       "4  [[0.03421379035088805, 0.030584254850054775, 0...  \n",
       "2  [[0.03581170468349564, 0.09092954233709635, 0....  "
      ]
     },
     "execution_count": 83,
     "metadata": {},
     "output_type": "execute_result"
    }
   ],
   "source": [
    "q_learning_df.sort_values(by = ['Average Rewards'],ascending = [False])"
   ]
  },
  {
   "cell_type": "code",
   "execution_count": 84,
   "id": "c5f04674",
   "metadata": {},
   "outputs": [],
   "source": [
    "qtable =q_learning_df[q_learning_df['Average Rewards'] ==0.54635]['Q Table'].values.tolist()[0]"
   ]
  },
  {
   "cell_type": "code",
   "execution_count": 93,
   "id": "0320c757",
   "metadata": {},
   "outputs": [],
   "source": [
    "env.reset()\n",
    "goals = 0\n",
    "holes = 0\n",
    "steps = []\n",
    "for episode in range(100):\n",
    "    \n",
    "    state = env.reset()\n",
    "    step = 0\n",
    "    done = False\n",
    "\n",
    "    for step in range(1000):\n",
    "        \n",
    "        action = np.argmax(qtable[state,:])\n",
    "\n",
    "        new_state, reward, done, info = env.step(action)\n",
    "        \n",
    "        if done:\n",
    "\n",
    "            if new_state == 15:\n",
    "                goals = goals + 1\n",
    "            else:\n",
    "                holes = holes + 1\n",
    "\n",
    "            steps.append(step)\n",
    "            \n",
    "            break\n",
    "        state = new_state"
   ]
  },
  {
   "cell_type": "code",
   "execution_count": 94,
   "id": "0bc481a4",
   "metadata": {},
   "outputs": [
    {
     "name": "stdout",
     "output_type": "stream",
     "text": [
      "82 18\n"
     ]
    }
   ],
   "source": [
    "print(goals,holes)"
   ]
  },
  {
   "cell_type": "code",
   "execution_count": null,
   "id": "a1d30520",
   "metadata": {},
   "outputs": [],
   "source": []
  }
 ],
 "metadata": {
  "kernelspec": {
   "display_name": "Python 3 (ipykernel)",
   "language": "python",
   "name": "python3"
  },
  "language_info": {
   "codemirror_mode": {
    "name": "ipython",
    "version": 3
   },
   "file_extension": ".py",
   "mimetype": "text/x-python",
   "name": "python",
   "nbconvert_exporter": "python",
   "pygments_lexer": "ipython3",
   "version": "3.8.12"
  }
 },
 "nbformat": 4,
 "nbformat_minor": 5
}
